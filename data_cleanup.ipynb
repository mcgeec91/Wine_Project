{
 "cells": [
  {
   "cell_type": "markdown",
   "metadata": {},
   "source": [
    "This is the formula our group used to create the sample DataFrame. This code was not used to create the sample_data.csv, but rather to show how we were able to obtain our data set. \n",
    "The original \"wine-data-130k-v2.csv\" was also deleted when cleaning up the repository."
   ]
  },
  {
   "cell_type": "code",
   "execution_count": null,
   "metadata": {},
   "outputs": [],
   "source": [
    "import csv\n",
    "import pandas as pd\n",
    "import numpy as np\n",
    "\n",
    "import matplotlib.pyplot as plt\n",
    "wine_data = pd.read_csv(\"Resources/winemag-data-130k-v2.csv\")\n",
    "\n",
    "new_sample_df=wine_data.sample(n=1000)\n",
    "new_sample_df.head()\n",
    "\n",
    "output = \"Resources/example_sample_data.csv\"\n",
    "\n",
    "new_sample_df.to_csv(output)"
   ]
  }
 ],
 "metadata": {
  "kernelspec": {
   "display_name": "Python 3",
   "language": "python",
   "name": "python3"
  },
  "language_info": {
   "codemirror_mode": {
    "name": "ipython",
    "version": 3
   },
   "file_extension": ".py",
   "mimetype": "text/x-python",
   "name": "python",
   "nbconvert_exporter": "python",
   "pygments_lexer": "ipython3",
   "version": "3.6.5"
  }
 },
 "nbformat": 4,
 "nbformat_minor": 2
}
