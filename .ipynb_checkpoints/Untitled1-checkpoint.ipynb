{
 "cells": [
  {
   "cell_type": "code",
   "execution_count": 11,
   "metadata": {},
   "outputs": [],
   "source": [
    "\n"
   ]
  },
  {
   "cell_type": "code",
   "execution_count": 54,
   "metadata": {},
   "outputs": [
    {
     "data": {
      "text/html": [
       "<div>\n",
       "<style scoped>\n",
       "    .dataframe tbody tr th:only-of-type {\n",
       "        vertical-align: middle;\n",
       "    }\n",
       "\n",
       "    .dataframe tbody tr th {\n",
       "        vertical-align: top;\n",
       "    }\n",
       "\n",
       "    .dataframe thead th {\n",
       "        text-align: right;\n",
       "    }\n",
       "</style>\n",
       "<table border=\"1\" class=\"dataframe\">\n",
       "  <thead>\n",
       "    <tr style=\"text-align: right;\">\n",
       "      <th></th>\n",
       "      <th>Unnamed: 0</th>\n",
       "      <th>country</th>\n",
       "      <th>description</th>\n",
       "      <th>designation</th>\n",
       "      <th>points</th>\n",
       "      <th>price</th>\n",
       "      <th>province</th>\n",
       "      <th>region_1</th>\n",
       "      <th>region_2</th>\n",
       "      <th>variety</th>\n",
       "      <th>winery</th>\n",
       "    </tr>\n",
       "  </thead>\n",
       "  <tbody>\n",
       "    <tr>\n",
       "      <th>35773</th>\n",
       "      <td>35773</td>\n",
       "      <td>France</td>\n",
       "      <td>It must be unique to find any Bordeaux in a Bu...</td>\n",
       "      <td>Les Vignes d'Elisa</td>\n",
       "      <td>90</td>\n",
       "      <td>65.0</td>\n",
       "      <td>Bordeaux</td>\n",
       "      <td>Bordeaux Blanc</td>\n",
       "      <td>NaN</td>\n",
       "      <td>Muscadelle</td>\n",
       "      <td>Chateau de Launay</td>\n",
       "    </tr>\n",
       "    <tr>\n",
       "      <th>119874</th>\n",
       "      <td>119874</td>\n",
       "      <td>US</td>\n",
       "      <td>Made with organically grown grapes, and harves...</td>\n",
       "      <td>Naked</td>\n",
       "      <td>87</td>\n",
       "      <td>12.0</td>\n",
       "      <td>Washington</td>\n",
       "      <td>Columbia Valley (WA)</td>\n",
       "      <td>Columbia Valley</td>\n",
       "      <td>Merlot</td>\n",
       "      <td>Snoqualmie</td>\n",
       "    </tr>\n",
       "    <tr>\n",
       "      <th>93907</th>\n",
       "      <td>93907</td>\n",
       "      <td>US</td>\n",
       "      <td>Less jammy and forward than the '04 Elevage, b...</td>\n",
       "      <td>Elevage</td>\n",
       "      <td>92</td>\n",
       "      <td>78.0</td>\n",
       "      <td>California</td>\n",
       "      <td>Stags Leap District</td>\n",
       "      <td>Napa</td>\n",
       "      <td>Bordeaux-style Red Blend</td>\n",
       "      <td>Chimney Rock</td>\n",
       "    </tr>\n",
       "    <tr>\n",
       "      <th>27055</th>\n",
       "      <td>27055</td>\n",
       "      <td>US</td>\n",
       "      <td>Like the label says, this Viognier is sweet, w...</td>\n",
       "      <td>Oley Late Harvest Sweet</td>\n",
       "      <td>90</td>\n",
       "      <td>19.0</td>\n",
       "      <td>California</td>\n",
       "      <td>Russian River Valley</td>\n",
       "      <td>Sonoma</td>\n",
       "      <td>Viognier</td>\n",
       "      <td>Novy</td>\n",
       "    </tr>\n",
       "    <tr>\n",
       "      <th>19526</th>\n",
       "      <td>19526</td>\n",
       "      <td>Australia</td>\n",
       "      <td>One of Australia's benchmark Chardonnays conti...</td>\n",
       "      <td>Art Series</td>\n",
       "      <td>93</td>\n",
       "      <td>89.0</td>\n",
       "      <td>Western Australia</td>\n",
       "      <td>Margaret River</td>\n",
       "      <td>NaN</td>\n",
       "      <td>Chardonnay</td>\n",
       "      <td>Leeuwin Estate</td>\n",
       "    </tr>\n",
       "  </tbody>\n",
       "</table>\n",
       "</div>"
      ],
      "text/plain": [
       "        Unnamed: 0    country  \\\n",
       "35773        35773     France   \n",
       "119874      119874         US   \n",
       "93907        93907         US   \n",
       "27055        27055         US   \n",
       "19526        19526  Australia   \n",
       "\n",
       "                                              description  \\\n",
       "35773   It must be unique to find any Bordeaux in a Bu...   \n",
       "119874  Made with organically grown grapes, and harves...   \n",
       "93907   Less jammy and forward than the '04 Elevage, b...   \n",
       "27055   Like the label says, this Viognier is sweet, w...   \n",
       "19526   One of Australia's benchmark Chardonnays conti...   \n",
       "\n",
       "                    designation  points  price           province  \\\n",
       "35773        Les Vignes d'Elisa      90   65.0           Bordeaux   \n",
       "119874                    Naked      87   12.0         Washington   \n",
       "93907                   Elevage      92   78.0         California   \n",
       "27055   Oley Late Harvest Sweet      90   19.0         California   \n",
       "19526                Art Series      93   89.0  Western Australia   \n",
       "\n",
       "                    region_1         region_2                   variety  \\\n",
       "35773         Bordeaux Blanc              NaN                Muscadelle   \n",
       "119874  Columbia Valley (WA)  Columbia Valley                    Merlot   \n",
       "93907    Stags Leap District             Napa  Bordeaux-style Red Blend   \n",
       "27055   Russian River Valley           Sonoma                  Viognier   \n",
       "19526         Margaret River              NaN                Chardonnay   \n",
       "\n",
       "                   winery  \n",
       "35773   Chateau de Launay  \n",
       "119874         Snoqualmie  \n",
       "93907        Chimney Rock  \n",
       "27055                Novy  \n",
       "19526      Leeuwin Estate  "
      ]
     },
     "execution_count": 54,
     "metadata": {},
     "output_type": "execute_result"
    }
   ],
   "source": [
    "import csv\n",
    "import pandas as pd\n",
    "import numpy as np\n",
    "\n",
    "import matplotlib.pyplot as plt\n",
    "wine_data = pd.read_csv(\"Resources/winemag-data_first150k.csv\")\n",
    "#sample_wine=wine_data.head(100000)\n",
    "#sample_wine['country'].value_counts()\n",
    "sample_df=wine_data.sample(n=1000)\n",
    "sample_df.head()"
   ]
  },
  {
   "cell_type": "code",
   "execution_count": 42,
   "metadata": {},
   "outputs": [],
   "source": [
    "french_wine=sample_wine.loc[(sample_wine[\"country\"]==\"France\"),:]\n",
    "french_score=french_wine['points'].sum()/len(french_wine)"
   ]
  },
  {
   "cell_type": "code",
   "execution_count": 43,
   "metadata": {},
   "outputs": [],
   "source": [
    "us_wine=sample_wine.loc[(sample_wine[\"country\"]==\"US\"),:]\n",
    "us_score=us_wine['points'].sum()/len(us_wine)"
   ]
  },
  {
   "cell_type": "code",
   "execution_count": 31,
   "metadata": {},
   "outputs": [
    {
     "data": {
      "text/plain": [
       "94.0"
      ]
     },
     "execution_count": 31,
     "metadata": {},
     "output_type": "execute_result"
    }
   ],
   "source": [
    "spain_wine=sample_wine.loc[(sample_wine[\"country\"]==\"Spain\"),:]\n",
    "spain_score=spain_wine['points'].sum()/len(spain_wine)"
   ]
  },
  {
   "cell_type": "code",
   "execution_count": 33,
   "metadata": {},
   "outputs": [
    {
     "data": {
      "text/plain": [
       "90.5"
      ]
     },
     "execution_count": 33,
     "metadata": {},
     "output_type": "execute_result"
    }
   ],
   "source": [
    "italian_wine=sample_wine.loc[(sample_wine[\"country\"]==\"Italy\"),:]\n",
    "italian_score=italian_wine['points'].sum()/len(italian_wine)"
   ]
  },
  {
   "cell_type": "code",
   "execution_count": 34,
   "metadata": {},
   "outputs": [
    {
     "data": {
      "text/plain": [
       "50.5"
      ]
     },
     "execution_count": 34,
     "metadata": {},
     "output_type": "execute_result"
    }
   ],
   "source": [
    "italian_price=italian_wine['price'].sum()/len(italian_wine)"
   ]
  },
  {
   "cell_type": "code",
   "execution_count": 35,
   "metadata": {},
   "outputs": [
    {
     "data": {
      "text/plain": [
       "86.66666666666667"
      ]
     },
     "execution_count": 35,
     "metadata": {},
     "output_type": "execute_result"
    }
   ],
   "source": [
    "spain_price=spain_wine['price'].sum()/len(spain_wine)"
   ]
  },
  {
   "cell_type": "code",
   "execution_count": 36,
   "metadata": {},
   "outputs": [
    {
     "data": {
      "text/plain": [
       "84.17391304347827"
      ]
     },
     "execution_count": 36,
     "metadata": {},
     "output_type": "execute_result"
    }
   ],
   "source": [
    "us_price=us_wine['price'].sum()/len(us_wine)"
   ]
  },
  {
   "cell_type": "code",
   "execution_count": 37,
   "metadata": {},
   "outputs": [
    {
     "data": {
      "text/plain": [
       "99.5"
      ]
     },
     "execution_count": 37,
     "metadata": {},
     "output_type": "execute_result"
    }
   ],
   "source": [
    "french_price=french_wine['price'].sum()/len(french_wine)"
   ]
  },
  {
   "cell_type": "code",
   "execution_count": null,
   "metadata": {},
   "outputs": [],
   "source": []
  }
 ],
 "metadata": {
  "kernelspec": {
   "display_name": "Python 3",
   "language": "python",
   "name": "python3"
  },
  "language_info": {
   "codemirror_mode": {
    "name": "ipython",
    "version": 3
   },
   "file_extension": ".py",
   "mimetype": "text/x-python",
   "name": "python",
   "nbconvert_exporter": "python",
   "pygments_lexer": "ipython3",
   "version": "3.6.5"
  }
 },
 "nbformat": 4,
 "nbformat_minor": 2
}
